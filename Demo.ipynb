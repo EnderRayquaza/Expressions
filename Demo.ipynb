{
 "cells": [
  {
   "cell_type": "code",
   "execution_count": 1,
   "id": "da16dce7-4802-4a6f-943f-ff9d152f4ffd",
   "metadata": {},
   "outputs": [],
   "source": [
    "from Expressions import *"
   ]
  },
  {
   "cell_type": "code",
   "execution_count": 2,
   "id": "a33ffe00-b9fe-4fc1-9ae0-f2d642485b99",
   "metadata": {},
   "outputs": [
    {
     "data": {
      "text/latex": [
       "$3x^{3}$"
      ],
      "text/plain": [
       "<IPython.core.display.Latex object>"
      ]
     },
     "metadata": {},
     "output_type": "display_data"
    },
    {
     "data": {
      "text/plain": []
     },
     "execution_count": 2,
     "metadata": {},
     "output_type": "execute_result"
    }
   ],
   "source": [
    "var_x = Var(\"x\")\n",
    "x = Monom(var_x)\n",
    "a = Monom(var_x, 3, 2) #a = 3x^2\n",
    "a*x"
   ]
  },
  {
   "cell_type": "code",
   "execution_count": 3,
   "id": "93730a3c-989e-4dfe-9d88-094a65a1e4f4",
   "metadata": {},
   "outputs": [
    {
     "data": {
      "text/latex": [
       "$3y^{2} y^{} $"
      ],
      "text/plain": [
       "<IPython.core.display.Latex object>"
      ]
     },
     "metadata": {},
     "output_type": "display_data"
    },
    {
     "data": {
      "text/plain": []
     },
     "execution_count": 3,
     "metadata": {},
     "output_type": "execute_result"
    }
   ],
   "source": [
    "y = Monom(Var(\"y\"))\n",
    "b = Monom(Var(\"y\"), 3, 2) #b = 3y^2\n",
    "b*y #Differents Var !"
   ]
  },
  {
   "cell_type": "code",
   "execution_count": 4,
   "id": "4690e7bd-40ef-425e-8e62-487113f4f108",
   "metadata": {},
   "outputs": [
    {
     "data": {
      "text/latex": [
       "$3\\psi^{3}$"
      ],
      "text/plain": [
       "<IPython.core.display.Latex object>"
      ]
     },
     "metadata": {},
     "output_type": "display_data"
    },
    {
     "data": {
      "text/plain": []
     },
     "execution_count": 4,
     "metadata": {},
     "output_type": "execute_result"
    }
   ],
   "source": [
    "psi = Monom(Var(\"\\psi\"))\n",
    "c = 3*psi**2\n",
    "c*psi #Ok"
   ]
  },
  {
   "cell_type": "code",
   "execution_count": 5,
   "id": "f962ddce-b089-4f3c-a8d8-9615dbf360bf",
   "metadata": {},
   "outputs": [
    {
     "data": {
      "text/latex": [
       "$3x^{} \\psi^{2} $"
      ],
      "text/plain": [
       "<IPython.core.display.Latex object>"
      ]
     },
     "metadata": {},
     "output_type": "display_data"
    },
    {
     "data": {
      "text/latex": [
       "$3x^{} \\psi^{2} $"
      ],
      "text/plain": [
       "<IPython.core.display.Latex object>"
      ]
     },
     "metadata": {},
     "output_type": "display_data"
    },
    {
     "data": {
      "text/plain": [
       "(, )"
      ]
     },
     "execution_count": 5,
     "metadata": {},
     "output_type": "execute_result"
    }
   ],
   "source": [
    "m = Multinom(x, c)#As many you want\n",
    "n = x*c #Same\n",
    "m, n"
   ]
  },
  {
   "cell_type": "code",
   "execution_count": 6,
   "id": "796ecc99-adb4-485b-9db1-b87b967283aa",
   "metadata": {},
   "outputs": [
    {
     "data": {
      "text/latex": [
       "$x^{}  + \\psi^{}  + 3x^{2} $"
      ],
      "text/plain": [
       "<IPython.core.display.Latex object>"
      ]
     },
     "metadata": {},
     "output_type": "display_data"
    },
    {
     "data": {
      "text/latex": [
       "$x^{}  + \\psi^{}  + 3x^{2} $"
      ],
      "text/plain": [
       "<IPython.core.display.Latex object>"
      ]
     },
     "metadata": {},
     "output_type": "display_data"
    },
    {
     "data": {
      "text/plain": [
       "(, )"
      ]
     },
     "execution_count": 6,
     "metadata": {},
     "output_type": "execute_result"
    }
   ],
   "source": [
    "p = Polynom(x, psi, a)\n",
    "q = x + psi + a\n",
    "p, q"
   ]
  },
  {
   "cell_type": "code",
   "execution_count": 7,
   "id": "ae1dfaaf-71ff-4073-aa11-eeca48f7e04c",
   "metadata": {},
   "outputs": [
    {
     "data": {
      "text/latex": [
       "$x^{2} \\psi^{2}  + \\psi^{3} x^{}  + 3x^{3} \\psi^{2}  - \\psi^{}  - \\psi^{2} x^{-}  - 3x^{} \\psi^{} $"
      ],
      "text/plain": [
       "<IPython.core.display.Latex object>"
      ]
     },
     "metadata": {},
     "output_type": "display_data"
    },
    {
     "data": {
      "text/plain": []
     },
     "execution_count": 7,
     "metadata": {},
     "output_type": "execute_result"
    }
   ],
   "source": [
    "r = p*m + (1-1j)*n*a - q*psi/x\n",
    "r"
   ]
  },
  {
   "cell_type": "code",
   "execution_count": 8,
   "id": "8b2f11e9-e368-441a-9f32-f7bda1fe838c",
   "metadata": {},
   "outputs": [],
   "source": [
    "from Matrix import *"
   ]
  },
  {
   "cell_type": "code",
   "execution_count": 9,
   "id": "91b8ff1f-5c25-4427-9369-f8aa63efba08",
   "metadata": {},
   "outputs": [
    {
     "data": {
      "text/latex": [
       "$\\pmatrix{0 & 0 & 0  \\\\ 0 & 0 & 0  \\\\ 0 & 0 & 0  }$"
      ],
      "text/plain": [
       "<IPython.core.display.Latex object>"
      ]
     },
     "metadata": {},
     "output_type": "display_data"
    },
    {
     "data": {
      "text/latex": [
       "$\\pmatrix{0 & 0 & 0 & 0 & 0  \\\\ 0 & 0 & 0 & 0 & 0  \\\\ 0 & 0 & 0 & 0 & 0  }$"
      ],
      "text/plain": [
       "<IPython.core.display.Latex object>"
      ]
     },
     "metadata": {},
     "output_type": "display_data"
    },
    {
     "data": {
      "text/latex": [
       "$\\pmatrix{1 & 0 & 0  \\\\ 0 & 1 & 0  \\\\ 0 & 0 & 1  }$"
      ],
      "text/plain": [
       "<IPython.core.display.Latex object>"
      ]
     },
     "metadata": {},
     "output_type": "display_data"
    },
    {
     "data": {
      "text/latex": [
       "$\\pmatrix{1 & 0 & 0  \\\\ 0 & 1 & 0  \\\\ 0 & 0 & 1  \\\\ 0 & 0 & 0  \\\\ 0 & 0 & 0  }$"
      ],
      "text/plain": [
       "<IPython.core.display.Latex object>"
      ]
     },
     "metadata": {},
     "output_type": "display_data"
    },
    {
     "data": {
      "text/plain": [
       "(, , , )"
      ]
     },
     "execution_count": 9,
     "metadata": {},
     "output_type": "execute_result"
    }
   ],
   "source": [
    "Matrix.zero(3), Matrix.zero(3, 5), Matrix.id(3), Matrix.id(5, 3)"
   ]
  },
  {
   "cell_type": "code",
   "execution_count": 10,
   "id": "3c062fad-90f4-4187-abbc-2bc4bd5db729",
   "metadata": {},
   "outputs": [
    {
     "data": {
      "text/latex": [
       "$\\pmatrix{1 & 2  \\\\ 3 & 4  \\\\ 5 & 6  }$"
      ],
      "text/plain": [
       "<IPython.core.display.Latex object>"
      ]
     },
     "metadata": {},
     "output_type": "display_data"
    },
    {
     "data": {
      "text/latex": [
       "$\\pmatrix{x^{} & 3x^{2} & 0  \\\\ \\psi^{} & 3\\psi^{2} & 0  \\\\ x^{}  + \\psi^{}  + 3x^{2}  & 3x^{} \\psi^{2}  & 1  }$"
      ],
      "text/plain": [
       "<IPython.core.display.Latex object>"
      ]
     },
     "metadata": {},
     "output_type": "display_data"
    },
    {
     "data": {
      "text/latex": [
       "$\\pmatrix{i & 0 & 0  \\\\ 0 & x^{} & 0  \\\\ 0 & 0 & 3  }$"
      ],
      "text/plain": [
       "<IPython.core.display.Latex object>"
      ]
     },
     "metadata": {},
     "output_type": "display_data"
    },
    {
     "data": {
      "text/plain": [
       "(, , )"
      ]
     },
     "execution_count": 10,
     "metadata": {},
     "output_type": "execute_result"
    }
   ],
   "source": [
    "A = Matrix([[1, 2], [3, 4], [5, 6]])\n",
    "M = Matrix([[x, a, 0], [psi, c, 0], [p, m, 1]])\n",
    "D = Diag(1j, x, 3)\n",
    "A, M, D"
   ]
  },
  {
   "cell_type": "code",
   "execution_count": 11,
   "id": "3923ebf2-4984-4d62-8283-98be1c3171a6",
   "metadata": {},
   "outputs": [
    {
     "data": {
      "text/latex": [
       "$\\pmatrix{x^{}  & 3x^{2}  & 0  \\\\ \\psi^{}  & 3\\psi^{2}  & 0  \\\\ x^{}  + \\psi^{}  + 3x^{2}  & 3x^{} \\psi^{2}  & 1  }$"
      ],
      "text/plain": [
       "<IPython.core.display.Latex object>"
      ]
     },
     "metadata": {},
     "output_type": "display_data"
    },
    {
     "data": {
      "text/latex": [
       "$\\pmatrix{2 & 2  \\\\ 3 & 5  \\\\ 5 & 6  }$"
      ],
      "text/plain": [
       "<IPython.core.display.Latex object>"
      ]
     },
     "metadata": {},
     "output_type": "display_data"
    },
    {
     "data": {
      "text/latex": [
       "$\\pmatrix{x^{}  + 9x^{2}  & 2x^{}  + 12x^{2}   \\\\ \\psi^{}  + 9\\psi^{2}  & 2\\psi^{}  + 12\\psi^{2}   \\\\ 5 + x^{}  + \\psi^{}  + 3x^{2}  + 9x^{} \\psi^{2}  & 6 + 2x^{}  + 2\\psi^{}  + 6x^{2}  + 12x^{} \\psi^{2}   }$"
      ],
      "text/plain": [
       "<IPython.core.display.Latex object>"
      ]
     },
     "metadata": {},
     "output_type": "display_data"
    },
    {
     "data": {
      "text/latex": [
       "$\\pmatrix{-i & 0 & 0  \\\\ 0 & x^{3}  & 0  \\\\ 0 & 0 & 27  }$"
      ],
      "text/plain": [
       "<IPython.core.display.Latex object>"
      ]
     },
     "metadata": {},
     "output_type": "display_data"
    },
    {
     "data": {
      "text/plain": [
       "(, , , )"
      ]
     },
     "execution_count": 11,
     "metadata": {},
     "output_type": "execute_result"
    }
   ],
   "source": [
    "M+Matrix.zero(3), A+Matrix.id(3, 2), M*A, D**3"
   ]
  },
  {
   "cell_type": "code",
   "execution_count": 12,
   "id": "4487eda3-09d3-4bce-90b7-6f7a7607ce55",
   "metadata": {},
   "outputs": [
    {
     "data": {
      "text/latex": [
       "$\\pmatrix{1 & 3 & 5  \\\\ 2 & 4 & 6  }$"
      ],
      "text/plain": [
       "<IPython.core.display.Latex object>"
      ]
     },
     "metadata": {},
     "output_type": "display_data"
    },
    {
     "data": {
      "text/latex": [
       "$\\pmatrix{75+i + 9x^{}  & 90+2i + 12x^{}   \\\\ 90+2i + 12x^{}  & 108+4i + 16x^{}   }$"
      ],
      "text/plain": [
       "<IPython.core.display.Latex object>"
      ]
     },
     "metadata": {},
     "output_type": "display_data"
    },
    {
     "data": {
      "text/plain": [
       "(, )"
      ]
     },
     "execution_count": 12,
     "metadata": {},
     "output_type": "execute_result"
    }
   ],
   "source": [
    "A.T(), A.T()*D*A"
   ]
  },
  {
   "cell_type": "code",
   "execution_count": 13,
   "id": "d21fb337-e423-4838-9ea1-163336639ae3",
   "metadata": {},
   "outputs": [
    {
     "data": {
      "text/latex": [
       "$3+i + x^{} $"
      ],
      "text/plain": [
       "<IPython.core.display.Latex object>"
      ]
     },
     "metadata": {},
     "output_type": "display_data"
    },
    {
     "data": {
      "text/latex": [
       "$1 + x^{}  + 3\\psi^{2} $"
      ],
      "text/plain": [
       "<IPython.core.display.Latex object>"
      ]
     },
     "metadata": {},
     "output_type": "display_data"
    },
    {
     "data": {
      "text/plain": [
       "(, )"
      ]
     },
     "execution_count": 13,
     "metadata": {},
     "output_type": "execute_result"
    }
   ],
   "source": [
    "tr(D), tr(M)"
   ]
  },
  {
   "cell_type": "code",
   "execution_count": 14,
   "id": "b9c28159-6996-4e36-8aa7-2a4fb2d7a908",
   "metadata": {},
   "outputs": [
    {
     "data": {
      "text/latex": [
       "$\\pmatrix{x^{} & 3x^{2} & 0  \\\\ \\psi^{} & 3\\psi^{2} & 0  \\\\ x^{}  + \\psi^{}  + 3x^{2}  & 3x^{} \\psi^{2}  & 1  }\\pmatrix{1 & 2  \\\\ 3 & 4  \\\\ 5 & 6  } = \\pmatrix{x^{}  + 9x^{2}  & 2x^{}  + 12x^{2}   \\\\ \\psi^{}  + 9\\psi^{2}  & 2\\psi^{}  + 12\\psi^{2}   \\\\ 5 + x^{}  + \\psi^{}  + 3x^{2}  + 9x^{} \\psi^{2}  & 6 + 2x^{}  + 2\\psi^{}  + 6x^{2}  + 12x^{} \\psi^{2}   }$"
      ],
      "text/plain": [
       "<IPython.core.display.Latex object>"
      ]
     },
     "metadata": {},
     "output_type": "display_data"
    }
   ],
   "source": [
    "displayMul(M, A)"
   ]
  }
 ],
 "metadata": {
  "kernelspec": {
   "display_name": "Python 3 (ipykernel)",
   "language": "python",
   "name": "python3"
  },
  "language_info": {
   "codemirror_mode": {
    "name": "ipython",
    "version": 3
   },
   "file_extension": ".py",
   "mimetype": "text/x-python",
   "name": "python",
   "nbconvert_exporter": "python",
   "pygments_lexer": "ipython3",
   "version": "3.10.4"
  }
 },
 "nbformat": 4,
 "nbformat_minor": 5
}
